{
 "cells": [
  {
   "cell_type": "markdown",
   "source": [
    "Bu not defterinde daha ileride kullanacağımız sistemin temelde nasıl çalıştığını, bir\n",
    "bilgisayarın resimi nasıl gördüğünü ve en temel düzeyde onu nasıl ayırt ettiğini\n",
    "anlama üzerine çalışacağız.\n",
    "\n",
    "Bu seri boyunca üzerinde çalışacağımız resimler 3X3 bir yatay ve dikey çizgiler olacak.\n",
    "O zaman hemen çalışmaya başlayalım. İlk olarak kütüphanemizi içe aktararak başlıyoruz.\n",
    "Kullanacağımız kütüphane OpenCV kütüphanesi olacaktır. OpenCV kütüphanesi resimler\n",
    "üzerinde birçok işlem yapmamızız sağlayan, derin öğrenme ve makine öğrenmesi ile de\n",
    "kullanılabilen bir kütüphanedir.\n"
   ],
   "metadata": {
    "collapsed": false
   }
  },
  {
   "cell_type": "code",
   "execution_count": 1,
   "outputs": [],
   "source": [
    "import cv2 as cv\n"
   ],
   "metadata": {
    "collapsed": false,
    "pycharm": {
     "name": "#%%\n"
    }
   }
  },
  {
   "cell_type": "markdown",
   "source": [
    "Kütüphanemizi içe aktardıktan sonra ise hemen resimlerimizi içe aktararak devam ediyoruz.\n",
    "Biz bu not defterinde işimiz dah kola olsun diye siyah-beyaz resimler üzerinde çalışacağız.\n",
    "Bunun sebebi renkli resimler 3 kanala sahiptir (RGB) yani renkli bir resim sayısal düzlemde\n",
    "3 boyutlu bir matristir. Biz işlem kolaylığı olması açısından tek kanllı olan siyah-beyaz\n",
    "resimler üzerinde çalışacağız."
   ],
   "metadata": {
    "collapsed": false,
    "pycharm": {
     "name": "#%% md\n"
    }
   }
  },
  {
   "cell_type": "code",
   "execution_count": 18,
   "outputs": [],
   "source": [
    "vertical = cv.imread(\"Data/Train/Vertical.png\", cv.IMREAD_GRAYSCALE)\n",
    "horizontal = cv.imread(\"Data/Train/Horizontal.png\", cv.IMREAD_GRAYSCALE)"
   ],
   "metadata": {
    "collapsed": false,
    "pycharm": {
     "name": "#%%\n"
    }
   }
  },
  {
   "cell_type": "markdown",
   "source": [
    "Şidmi içe aktardığımız resimleri inceleyelim. İlk olarak resimler boyutuna, sonrasında\n",
    "resimlerin yapısına (piksel değerlleri) bakalım.\n",
    "\n"
   ],
   "metadata": {
    "collapsed": false,
    "pycharm": {
     "name": "#%% md\n"
    }
   }
  },
  {
   "cell_type": "code",
   "execution_count": 19,
   "outputs": [
    {
     "name": "stdout",
     "output_type": "stream",
     "text": [
      "Shape of vertical image is  (3, 3)\n",
      "Shape of horizontal image is  (3, 3)\n"
     ]
    }
   ],
   "source": [
    "print(\"Shape of vertical image is \", vertical.shape)\n",
    "print(\"Shape of horizontal image is \", horizontal.shape)"
   ],
   "metadata": {
    "collapsed": false,
    "pycharm": {
     "name": "#%%\n"
    }
   }
  },
  {
   "cell_type": "code",
   "execution_count": 20,
   "outputs": [
    {
     "name": "stdout",
     "output_type": "stream",
     "text": [
      "VERTICAL IMAGE <=\n",
      " [[  0 255   0]\n",
      " [  0 255   0]\n",
      " [  0 255   0]]\n",
      "\n",
      " HORIZONTAL IMAGE <=\n",
      " [[  0   0   0]\n",
      " [255 255 255]\n",
      " [  0   0   0]]\n"
     ]
    }
   ],
   "source": [
    "print(\"VERTICAL IMAGE <=\\n\",vertical)\n",
    "print(\"\\n HORIZONTAL IMAGE <=\\n\",horizontal)"
   ],
   "metadata": {
    "collapsed": false,
    "pycharm": {
     "name": "#%%\n"
    }
   }
  },
  {
   "cell_type": "markdown",
   "source": [
    "Yukarıda çıktı olarak aldğımız değerleri gözlemlediğimizde siyah piksellerin 0,\n",
    "beyaz piksellerin ise 255 değerini aldığını görebiliriz. Bizler şimdi resimdeki\n",
    "tüm pikselleri 255 değerine bölerek devam edeceğiz. Bunun sebebi sistemdeki işlem\n",
    "yükünü azaltmaktır. 0 ve 1 ile işlem yapmak 0 ile 255 ile işlem yapmaktan çok daha\n",
    "kolaydır çünkü."
   ],
   "metadata": {
    "collapsed": false,
    "pycharm": {
     "name": "#%% md\n"
    }
   }
  },
  {
   "cell_type": "code",
   "execution_count": 21,
   "outputs": [
    {
     "name": "stdout",
     "output_type": "stream",
     "text": [
      "VERTICAL IMAGE <=\n",
      " [[0. 1. 0.]\n",
      " [0. 1. 0.]\n",
      " [0. 1. 0.]]\n",
      "\n",
      " HORIZONTAL IMAGE <=\n",
      " [[0. 0. 0.]\n",
      " [1. 1. 1.]\n",
      " [0. 0. 0.]]\n"
     ]
    }
   ],
   "source": [
    "vertical = vertical/255\n",
    "horizontal = horizontal/255\n",
    "\n",
    "print(\"VERTICAL IMAGE <=\\n\",vertical)\n",
    "print(\"\\n HORIZONTAL IMAGE <=\\n\",horizontal)"
   ],
   "metadata": {
    "collapsed": false,
    "pycharm": {
     "name": "#%%\n"
    }
   }
  },
  {
   "cell_type": "markdown",
   "source": [
    "Yukarıda da gözlemlenebilecei gibi resimimizin piksel değerleri artık 0 ile 1 arasına\n",
    "sıkıştırıldı. Resimimizi sınıflandırma işlemine sokmadan önce yapmamız gerek son bir\n",
    "işlem kaldı bu işlemde resimleri bilgisayarın işlem yapabilceği forma getirmektir.\n",
    "\n",
    "Bilgisayar 3X3 matris veya herhangi bir matris üzerinde işlem yapamaz. bilgisayara tek\n",
    "boyutlu diziler gerekmektedir. Bizde resimlerimizi buna uygun hale getireceğiz."
   ],
   "metadata": {
    "collapsed": false,
    "pycharm": {
     "name": "#%% md\n"
    }
   }
  },
  {
   "cell_type": "code",
   "execution_count": 22,
   "outputs": [
    {
     "name": "stdout",
     "output_type": "stream",
     "text": [
      "Flatten form of vertical is : \n",
      " [0. 1. 0. 0. 1. 0. 0. 1. 0.]\n",
      "\n",
      "Flatten form of horizontal is :\n",
      " [0. 0. 0. 1. 1. 1. 0. 0. 0.]\n"
     ]
    }
   ],
   "source": [
    "flattenV = vertical.flatten()\n",
    "flattenH = horizontal.flatten()\n",
    "\n",
    "print(\"Flatten form of vertical is : \\n\", flattenV)\n",
    "print(\"\\nFlatten form of horizontal is :\\n\", flattenH)"
   ],
   "metadata": {
    "collapsed": false,
    "pycharm": {
     "name": "#%%\n"
    }
   }
  },
  {
   "cell_type": "markdown",
   "source": [
    "Şimdi Remileri birbirinden ayırt etme zamanı. Devam etmeden önce biz insanların bu\n",
    "bu iki resmi nasıl birbirinden ayırt ettiğimizi düşünmenizi istiyorum. Çünkü artık\n",
    "refleks olmuş bu özelliği bir şekilde bilgisayara aktarmalıyız.\n",
    "\n",
    "Biilgisayarın bu iki resmimi birbirinden ayırt etmesini sağlamamnın en kolay yolu\n",
    "bir filtre üretmektir. Bu filtre ile dikey resime işlem yapıldığında ayrı, yatay\n",
    "resime işlem yapıldığında ayrı bir sonuç çıkmalıdır. Bu ilke sefer olduğu için filtreyi\n",
    "deneme yanıma yöntemini kullanarak manuel atayacağız."
   ],
   "metadata": {
    "collapsed": false,
    "pycharm": {
     "name": "#%% md\n"
    }
   }
  },
  {
   "cell_type": "code",
   "execution_count": 23,
   "outputs": [],
   "source": [
    "filter = [1, -1, 1, -1, 1, -1, 1, 1, 1]"
   ],
   "metadata": {
    "collapsed": false,
    "pycharm": {
     "name": "#%%\n"
    }
   }
  },
  {
   "cell_type": "markdown",
   "source": [
    "Şimdi elimizde bulunanresimlerden elde etiğimiz dizileri oluşturduğumuz filtre dizisi\n",
    "ile çarparak sonuçlarımızı kontorl edeceğiz. Eğer ikisi içinde elde ettiğimiz sonuçlar\n",
    "birbirlerinden farklı ise oluşturduğumuz filtreyi kullanabiliriz değil ise filtredeki\n",
    "değerleri değiştirip tekrar denemeliyiz.\n",
    "\n",
    "Aiağıda gerçeleşen matematiksel işlem resimdeki tüm piksel değerlerinde filtrede kendilerine\n",
    "karşılık gelen değerler ile çarpılarak toplanmasıdır."
   ],
   "metadata": {
    "collapsed": false,
    "pycharm": {
     "name": "#%% md\n"
    }
   }
  },
  {
   "cell_type": "code",
   "execution_count": 24,
   "outputs": [
    {
     "name": "stdout",
     "output_type": "stream",
     "text": [
      "After applying the filter vertical image value is,  1.0\n",
      "After applying the filter horizontal image value is,  -1.0\n"
     ]
    }
   ],
   "source": [
    "resultV = sum(flattenV * filter)\n",
    "resultH = sum(flattenH * filter)\n",
    "\n",
    "print(\"After applying the filter vertical image value is, \",resultV)\n",
    "print(\"After applying the filter horizontal image value is, \",resultH)"
   ],
   "metadata": {
    "collapsed": false,
    "pycharm": {
     "name": "#%%\n"
    }
   }
  },
  {
   "cell_type": "markdown",
   "source": [
    "Artık elimizde bu iki resimi birbirinden ayırt edebilecek bir filtre var. Eğer filtre\n",
    "uygulandıktan sonra elde edilen sonuç 1 ise dikey, -1 ise yatay çizgidir.  Ne var ki\n",
    "bu filtre sadece bu iki resim üzerinde çalışabilir. Daha büyük resimler veya ortada\n",
    "resimi ortalayan çizgiler gibi farklı durumlarda çalışmaz. Ama sıkıntı yok çünkü\n",
    "ileride bunlarıda çözeceğiz."
   ],
   "metadata": {
    "collapsed": false,
    "pycharm": {
     "name": "#%% md\n"
    }
   }
  }
 ],
 "metadata": {
  "kernelspec": {
   "display_name": "Python 3",
   "language": "python",
   "name": "python3"
  },
  "language_info": {
   "codemirror_mode": {
    "name": "ipython",
    "version": 2
   },
   "file_extension": ".py",
   "mimetype": "text/x-python",
   "name": "python",
   "nbconvert_exporter": "python",
   "pygments_lexer": "ipython2",
   "version": "2.7.6"
  }
 },
 "nbformat": 4,
 "nbformat_minor": 0
}