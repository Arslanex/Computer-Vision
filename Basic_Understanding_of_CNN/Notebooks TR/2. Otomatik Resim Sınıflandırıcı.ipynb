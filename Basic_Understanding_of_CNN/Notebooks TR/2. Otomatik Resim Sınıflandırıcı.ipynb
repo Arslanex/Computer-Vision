{
 "cells": [
  {
   "cell_type": "markdown",
   "metadata": {
    "collapsed": true,
    "pycharm": {
     "name": "#%% md\n"
    }
   },
   "source": [
    "Bu not defterinde ilk not defterinde oluşturduğumuz filtreyi otomatik olarak oluşturacağız.\n",
    "Her zaman ki gibi ilk olarak kullanacağımız kütüphaneleri içe aktararak başlıyoruz. Bu kez\n",
    "OpenCV kütüphanesinin yanında Numpy kütüphanesinide kullancağız. Numpy ileri seviye matematiksel\n",
    "işlemler ve matris işlemlerini gerçekleştirebilmek için  kullanılır. Biz de Numpy aracılığı\n",
    "ile filtremizi oluşturacağız."
   ]
  },
  {
   "cell_type": "code",
   "execution_count": 1,
   "outputs": [],
   "source": [
    "import cv2 as cv\n",
    "import numpy as np"
   ],
   "metadata": {
    "collapsed": false,
    "pycharm": {
     "name": "#%%\n"
    }
   }
  },
  {
   "cell_type": "markdown",
   "source": [
    "Şimdi ilk not defterinde yaptığımız gibi resimi bilgisayarın üzerinde matematiksel işlem\n",
    "gerçekleştirebileceği şekle getireceğiz. B u amaçla bir fonksiyon oluşturalım ve daha sonra\n",
    "kullanarak sonuçları kontrol edelim."
   ],
   "metadata": {
    "collapsed": false,
    "pycharm": {
     "name": "#%% md\n"
    }
   }
  },
  {
   "cell_type": "code",
   "execution_count": 2,
   "outputs": [],
   "source": [
    "def prepare_the_image(imgPath):\n",
    "    img = cv.imread(imgPath, cv.IMREAD_GRAYSCALE)\n",
    "    img = img/255\n",
    "    flatten = img.flatten()\n",
    "    return flatten"
   ],
   "metadata": {
    "collapsed": false,
    "pycharm": {
     "name": "#%%\n"
    }
   }
  },
  {
   "cell_type": "code",
   "execution_count": 3,
   "outputs": [
    {
     "name": "stdout",
     "output_type": "stream",
     "text": [
      "Flatten form of vertical is : \n",
      " [0. 1. 0. 0. 1. 0. 0. 1. 0.]\n",
      "\n",
      "Flatten form of horizontal is :\n",
      " [0. 0. 0. 1. 1. 1. 0. 0. 0.]\n"
     ]
    }
   ],
   "source": [
    "flattenV = prepare_the_image(\"Data/Train/Vertical.png\")\n",
    "flattenH = prepare_the_image(\"Data/Train/Horizontal.png\")\n",
    "\n",
    "print(\"Flatten form of vertical is : \\n\", flattenV)\n",
    "print(\"\\nFlatten form of horizontal is :\\n\", flattenH)"
   ],
   "metadata": {
    "collapsed": false,
    "pycharm": {
     "name": "#%%\n"
    }
   }
  },
  {
   "cell_type": "markdown",
   "source": [
    "Eğer çıktı doğru ise devam edebilriz. Şimdi Numpy kütüphanesini kullanarak bir filtre\n",
    "oluşturacağız. bildiğimiz gibi  filtremiz bir dizi yani tek boyutlu bir matristi. Numpy\n",
    "kütüphanesi içerisinde belirttiğiniz boyutta elmanları random bir şekilde atayan bir merhod\n",
    "bulunmaktadır. Bunu kullanarak filtremizi oluşturalım. aşağıda ki kod bloğunu her çalıştıdığınızda\n",
    "farklı bir filtre dizisi elde etmelisiniz.\n",
    "\n",
    "params : random için alt sınır, random için üst sınıt, matris boyutu"
   ],
   "metadata": {
    "collapsed": false,
    "pycharm": {
     "name": "#%% md\n"
    }
   }
  },
  {
   "cell_type": "code",
   "execution_count": 7,
   "outputs": [
    {
     "name": "stdout",
     "output_type": "stream",
     "text": [
      "Filter created by computer is  [-1  1  1  0  1 -1 -1 -1 -1]\n"
     ]
    }
   ],
   "source": [
    "filter = np.random.randint(-1, 2, size=9)\n",
    "\n",
    "print(\"Filter created by computer is \", filter)"
   ],
   "metadata": {
    "collapsed": false,
    "pycharm": {
     "name": "#%%\n"
    }
   }
  },
  {
   "cell_type": "markdown",
   "source": [
    "Şimdi bu methodu kullanarak kendi kendisine method oluşturan bir kod yazalım. Basitçe\n",
    "uygun bir filtre oluşturulana kadar tekrar ve tekrar filtre oluşturacak bir döngü açacağız.\n",
    "Eğer filtre ile resimler işleme sokulduğunda sonuçlar farklı ise filtre uygundur, değil\n",
    "ise yeni filtre ile tekrar deneyecek taki uygun eşleşmeyi bulana kadar."
   ],
   "metadata": {
    "collapsed": false,
    "pycharm": {
     "name": "#%% md\n"
    }
   }
  },
  {
   "cell_type": "code",
   "execution_count": 18,
   "outputs": [
    {
     "name": "stdout",
     "output_type": "stream",
     "text": [
      "STATUS: Failed - FILTER: [-1  0 -1  0  0  0  0  0  0]\n",
      "STATUS: Passed - FILTER: [ 0  0 -1 -1  0 -1  0  0  0]\n"
     ]
    }
   ],
   "source": [
    "while True:\n",
    "    filter = np.random.randint(-1, 1, size=9)\n",
    "\n",
    "    convolutionV = sum(flattenV * filter)\n",
    "    convolutionH = sum(flattenH * filter)\n",
    "\n",
    "    if convolutionV != convolutionH:\n",
    "        print(\"STATUS: Passed - FILTER:\",filter)\n",
    "        break\n",
    "    else:\n",
    "        print(\"STATUS: Failed - FILTER:\",filter)"
   ],
   "metadata": {
    "collapsed": false,
    "pycharm": {
     "name": "#%%\n"
    }
   }
  }
 ],
 "metadata": {
  "kernelspec": {
   "display_name": "Python 3",
   "language": "python",
   "name": "python3"
  },
  "language_info": {
   "codemirror_mode": {
    "name": "ipython",
    "version": 2
   },
   "file_extension": ".py",
   "mimetype": "text/x-python",
   "name": "python",
   "nbconvert_exporter": "python",
   "pygments_lexer": "ipython2",
   "version": "2.7.6"
  }
 },
 "nbformat": 4,
 "nbformat_minor": 0
}
