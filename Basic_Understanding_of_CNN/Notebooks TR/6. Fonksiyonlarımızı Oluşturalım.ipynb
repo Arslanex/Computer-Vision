{
 "cells": [
  {
   "cell_type": "markdown",
   "metadata": {
    "collapsed": true,
    "pycharm": {
     "name": "#%% md\n"
    }
   },
   "source": [
    "Bu not defterine bir önceki notlarımızda ağırlıları eğitmek için uyguladığımız adımları fonksiyonlar içine alacağız.\n",
    "**Forward Propagation** nöral ağın girdiler doğrultusudna bir sonuç, değer bulması, **Back Propagation** ise\n",
    "bu sonuca göre ağırlıkları daha doğru sonuç üretecek şekilde yeniden ayarlamaktı. şimdi bu iki adımı fonksiyonlara\n",
    "dönüştüreceğiz."
   ]
  },
  {
   "cell_type": "code",
   "execution_count": 1,
   "outputs": [],
   "source": [
    "import cv2 as cv\n",
    "import numpy as np\n"
   ],
   "metadata": {
    "collapsed": false,
    "pycharm": {
     "name": "#%%\n"
    }
   }
  },
  {
   "cell_type": "code",
   "execution_count": 2,
   "outputs": [],
   "source": [
    "def prepare_the_image(imgPath):\n",
    "    img = cv.imread(imgPath, cv.IMREAD_GRAYSCALE)\n",
    "    img = img / 255\n",
    "    flatten = img.flatten()\n",
    "    return flatten"
   ],
   "metadata": {
    "collapsed": false,
    "pycharm": {
     "name": "#%%\n"
    }
   }
  },
  {
   "cell_type": "code",
   "execution_count": 3,
   "outputs": [],
   "source": [
    "def sigmoid(x):\n",
    "    return 1 / (1 + np.exp(-x))\n",
    "\n",
    "\n",
    "def sigmoid_der(x):\n",
    "    return sigmoid(x) * (1 - sigmoid(x))"
   ],
   "metadata": {
    "collapsed": false,
    "pycharm": {
     "name": "#%%\n"
    }
   }
  },
  {
   "cell_type": "code",
   "execution_count": 4,
   "outputs": [],
   "source": [
    "flattenV = prepare_the_image(\"../dataset/train/vertical.png\")\n",
    "flattenH = prepare_the_image(\"../dataset/train/horizontal.png\")"
   ],
   "metadata": {
    "collapsed": false,
    "pycharm": {
     "name": "#%%\n"
    }
   }
  },
  {
   "cell_type": "code",
   "execution_count": 5,
   "outputs": [],
   "source": [
    "dataSet = np.array([flattenV, flattenH])\n",
    "labels = np.array([0,1]).T\n",
    "\n",
    "weights = np.array([0.5, 0.5, 0.5, 0.5, 0.5, 0.5, 0.5, 0.5, 0.5])"
   ],
   "metadata": {
    "collapsed": false,
    "pycharm": {
     "name": "#%%\n"
    }
   }
  },
  {
   "cell_type": "markdown",
   "source": [
    "* Forward Propagation -> sonucu hesaplayacak\n",
    "* Back Propagation -> Ağırlık değelerine yapılması gerekn güncellemeyi hesaplayacak."
   ],
   "metadata": {
    "collapsed": false,
    "pycharm": {
     "name": "#%% md\n"
    }
   }
  },
  {
   "cell_type": "code",
   "execution_count": 6,
   "outputs": [],
   "source": [
    "def feed_forward(input, weights):\n",
    "    convolution = np.dot(input, weights)\n",
    "    result = sigmoid(convolution)\n",
    "    return result"
   ],
   "metadata": {
    "collapsed": false,
    "pycharm": {
     "name": "#%%\n"
    }
   }
  },
  {
   "cell_type": "markdown",
   "source": [
    "Aşağıda daha önce kullanmadığımız bir işlem olan .T işlemini görebilisiniz. Bu matrisin\n",
    "transpozunu alma işlemdir. Bu işlem sonrası satırla stun, stunlar satır olur. Tek boyutlu bir\n",
    "matriste yanid bizm dizimiz gibi dizilerde ise satır formundaki input stun formuna döner.\n",
    "Bunu yapma sebebimiz matris işlemleri için natris boyutlarının yani satır/stun şekil ve sayıların\n",
    "önemli olması. kısaca girdiyi işlem yapılabilir hale getiriyoruz."
   ],
   "metadata": {
    "collapsed": false,
    "pycharm": {
     "name": "#%% md\n"
    }
   }
  },
  {
   "cell_type": "code",
   "execution_count": 7,
   "outputs": [],
   "source": [
    "def back_propagation(result, label, input):\n",
    "    error = abs(result - label)\n",
    "    adjustment = error * sigmoid_der(result)\n",
    "    weightUpdate = np.dot(input.T, adjustment)\n",
    "    return weightUpdate"
   ],
   "metadata": {
    "collapsed": false,
    "pycharm": {
     "name": "#%%\n"
    }
   }
  },
  {
   "cell_type": "markdown",
   "source": [
    "Şimdi Eğitim için bir döngü oluşturalım, bu sefer faklı olarak for döngüsü kullanacağım."
   ],
   "metadata": {
    "collapsed": false,
    "pycharm": {
     "name": "#%% md\n"
    }
   }
  },
  {
   "cell_type": "code",
   "execution_count": 8,
   "outputs": [
    {
     "name": "stdout",
     "output_type": "stream",
     "text": [
      "Weights [ 0.5        -0.17596851  0.5         0.16287268 -0.51309583  0.16287268\n",
      "  0.5        -0.17596851  0.5       ]\n"
     ]
    }
   ],
   "source": [
    "for i in range(5):\n",
    "    result = feed_forward(dataSet, weights)\n",
    "    weights -= back_propagation(result, labels, dataSet)\n",
    "\n",
    "print(\"Weights\", weights)"
   ],
   "metadata": {
    "collapsed": false,
    "pycharm": {
     "name": "#%%\n"
    }
   }
  }
 ],
 "metadata": {
  "kernelspec": {
   "display_name": "Python 3",
   "language": "python",
   "name": "python3"
  },
  "language_info": {
   "codemirror_mode": {
    "name": "ipython",
    "version": 2
   },
   "file_extension": ".py",
   "mimetype": "text/x-python",
   "name": "python",
   "nbconvert_exporter": "python",
   "pygments_lexer": "ipython2",
   "version": "2.7.6"
  }
 },
 "nbformat": 4,
 "nbformat_minor": 0
}