{
 "cells": [
  {
   "cell_type": "markdown",
   "metadata": {
    "collapsed": true,
    "pycharm": {
     "name": "#%% md\n"
    }
   },
   "source": [
    "Bu not defterinde ağılıklarımızı her iki resimide doğru şekilde tanıyacak şekilde\n",
    "eğitceğiz. Daha önce de belirttiğimiz gibi nöral ağ sonunda çıkan:\n",
    "* 0 -> Dikey Çizgiyi temsil edecektir.\n",
    "* 1 -> Yatay Çizgiyi temsil edecektir.\n",
    "\n",
    "Bu not defterinde yapacağımız şey aslında bir nöral ağın eğitilmesidir. Bir nöral ağı eğitmek\n",
    "için iki girdiye ihtiyacınız vardır. Bunlar etiketler ve veri setidir. Veri seti nöral ağın\n",
    "eğitimi için kullanılacak verilerin bizim için resimlerimzin bulunduğu depo, klasör.\n",
    "Eğitim sırasında da verilerin ne olduğunu, sonuçta ne elde etmesi gerektiğini ona biz\n",
    "belirtiliz. Bu belirttiğimiz değer verinin etiketidir.\n",
    "\n",
    "Bizim için veri setimiz iki resimden oluşuyor, bunlar yatay ve dikey çizgi. Bu çizgilerin\n",
    "eğirim soncu ulaşmalrı gerekn değerler:\n",
    "* Yatay için 0\n",
    "* dikey için 1\n",
    "\n",
    "değerleridir. Bunlarda bizim etiketlerimizdir."
   ]
  },
  {
   "cell_type": "code",
   "execution_count": 1,
   "outputs": [],
   "source": [
    "import cv2 as cv\n",
    "import numpy as np"
   ],
   "metadata": {
    "collapsed": false,
    "pycharm": {
     "name": "#%%\n"
    }
   }
  },
  {
   "cell_type": "code",
   "execution_count": 2,
   "outputs": [],
   "source": [
    "def prepare_the_image(imgPath):\n",
    "    img = cv.imread(imgPath, cv.IMREAD_GRAYSCALE)\n",
    "    img = img/255\n",
    "    flatten = img.flatten()\n",
    "    return flatten"
   ],
   "metadata": {
    "collapsed": false,
    "pycharm": {
     "name": "#%%\n"
    }
   }
  },
  {
   "cell_type": "code",
   "execution_count": 3,
   "outputs": [],
   "source": [
    "def sigmoid(x):\n",
    "    return 1 / (1 + np.exp(-x))\n",
    "\n",
    "def sigmoid_der(x):\n",
    "    return sigmoid(x) * (1 - sigmoid(x))"
   ],
   "metadata": {
    "collapsed": false,
    "pycharm": {
     "name": "#%%\n"
    }
   }
  },
  {
   "cell_type": "code",
   "source": [
    "flattenV = prepare_the_image(\"Data/Train/Vertical.png\")\n",
    "flattenH = prepare_the_image(\"Data/Train/Horizontal.png\")\n",
    "\n",
    "weights = np.array([0.5, 0.5, 0.5, 0.5, 0.5, 0.5, 0.5, 0.5, 0.5])"
   ],
   "metadata": {
    "collapsed": false,
    "pycharm": {
     "name": "#%%\n"
    }
   },
   "execution_count": 7,
   "outputs": []
  },
  {
   "cell_type": "markdown",
   "source": [
    "Şimdi nöral ağımız için veri setlerimizi ve verilere karşılık gelen etiketlerimizi\n",
    "programa belirtelim."
   ],
   "metadata": {
    "collapsed": false,
    "pycharm": {
     "name": "#%% md\n"
    }
   }
  },
  {
   "cell_type": "code",
   "execution_count": 8,
   "outputs": [],
   "source": [
    "dataSet = np.array([flattenV, flattenH])\n",
    "labels = np.array([0, 1])"
   ],
   "metadata": {
    "collapsed": false,
    "pycharm": {
     "name": "#%%\n"
    }
   }
  },
  {
   "cell_type": "markdown",
   "source": [
    "Şimdi ağırlıları yeniden ayarlamak, nöral ağı eğitmek için bir döngü oluşturacağız.\n",
    "Geçtiğimiz not defterinde yaptığımız şekilde ağırlıkları yeniden ayarlanacak tek fark\n",
    "bu sefer iki resimde işleme alınacak.\n",
    "\n",
    "İlk olarak döngümüzün kaç tur çalışacağını yani kaç turluk bir eğitim olacağını belirteceğiz.\n",
    "Buna, kaç tur eğitim gerçekleşeceğine, ' epoch ' denir. Her bir döngüde veri setinin içerisindeki\n",
    "her bir veri için ağırlılar yeniden ayarlanak. Ben epoch değerimi 5 olarak ayarladım. Totalde\n",
    "5 kez dikey 5 kez de yatay çizgi için ağırlılar yeniden ayarlanacaktır."
   ],
   "metadata": {
    "collapsed": false,
    "pycharm": {
     "name": "#%% md\n"
    }
   }
  },
  {
   "cell_type": "code",
   "execution_count": 9,
   "outputs": [
    {
     "name": "stdout",
     "output_type": "stream",
     "text": [
      "# LAP :  1  #\n",
      "LABEL ::  0\n",
      "Convolution ::  1.5\n",
      "Error Value ::  0.8175744761936437\n",
      "Adjustment Rate ::  0.17371175481161166\n",
      "LABEL ::  1\n",
      "Convolution ::  1.3262882451883884\n",
      "Error Value ::  0.20977399578576217\n",
      "Adjustment Rate ::  0.04503872017129386\n",
      "Weights Value ::  [0.5, 0.32628824518838834, 0.5, 0.45496127982870616, 0.2812495250170945, 0.45496127982870616, 0.5, 0.32628824518838834, 0.5]\n",
      "\n",
      "# LAP :  2  #\n",
      "LABEL ::  0\n",
      "Convolution ::  0.9338260153938711\n",
      "Error Value ::  0.7178508559867346\n",
      "Adjustment Rate ::  0.15819281377601535\n",
      "LABEL ::  1\n",
      "Convolution ::  1.0329792708984915\n",
      "Error Value ::  0.2625069181863139\n",
      "Adjustment Rate ::  0.057453920076235274\n",
      "Weights Value ::  [0.5, 0.168095431412373, 0.5, 0.39750735975247087, 0.06560279116484387, 0.39750735975247087, 0.5, 0.168095431412373, 0.5]\n",
      "\n",
      "# LAP :  3  #\n",
      "LABEL ::  0\n",
      "Convolution ::  0.4017936539895898\n",
      "Error Value ::  0.5991185283734338\n",
      "Adjustment Rate ::  0.1371040546701723\n",
      "LABEL ::  1\n",
      "Convolution ::  0.7235134559996133\n",
      "Error Value ::  0.3266197656783941\n",
      "Adjustment Rate ::  0.0730556342872412\n",
      "Weights Value ::  [0.5, 0.030991376742200677, 0.5, 0.32445172546522966, -0.14455689779256964, 0.32445172546522966, 0.5, 0.030991376742200677, 0.5]\n",
      "\n",
      "# LAP :  4  #\n",
      "LABEL ::  0\n",
      "Convolution ::  -0.08257414430816828\n",
      "Error Value ::  0.47936818574134893\n",
      "Adjustment Rate ::  0.1132126494351408\n",
      "LABEL ::  1\n",
      "Convolution ::  0.39113390370274886\n",
      "Error Value ::  0.403444366297937\n",
      "Adjustment Rate ::  0.09239412289824875\n",
      "Weights Value ::  [0.5, -0.08222127269294012, 0.5, 0.2320576025669809, -0.35016367012595917, 0.2320576025669809, 0.5, -0.08222127269294012, 0.5]\n",
      "\n",
      "# LAP :  5  #\n",
      "LABEL ::  0\n",
      "Convolution ::  -0.5146062155118394\n",
      "Error Value ::  0.3741143434027006\n",
      "Adjustment Rate ::  0.09033083776673395\n",
      "LABEL ::  1\n",
      "Convolution ::  0.023620697241268696\n",
      "Error Value ::  0.4940951002341346\n",
      "Adjustment Rate ::  0.11594542782559768\n",
      "Weights Value ::  [0.5, -0.17255211045967406, 0.5, 0.11611217474138323, -0.5564399357182908, 0.11611217474138323, 0.5, -0.17255211045967406, 0.5]\n",
      "\n"
     ]
    }
   ],
   "source": [
    "for i in range(5):\n",
    "    print(\"# LAP : \", i + 1, \" #\")\n",
    "\n",
    "    for image, label in zip(dataSet, labels):\n",
    "        print(\"LABEL :: \",label)\n",
    "\n",
    "        convolution = sum(image * weights)\n",
    "        print(\"Convolution :: \", convolution)\n",
    "\n",
    "        result = sigmoid(convolution)\n",
    "\n",
    "        error = abs(result - label)\n",
    "        print(\"Error Value :: \", error)\n",
    "\n",
    "        adjustment = error * sigmoid_der(result)\n",
    "        print(\"Adjustment Rate :: \", adjustment)\n",
    "\n",
    "        weights -= np.dot(image, adjustment)\n",
    "\n",
    "    print(\"Weights Value :: \", list(weights), end=\"\\n\")\n",
    "    print()"
   ],
   "metadata": {
    "collapsed": false,
    "pycharm": {
     "name": "#%%\n"
    }
   }
  },
  {
   "cell_type": "markdown",
   "source": [
    "Artık her iki değere göre de ağırlıları yeniden ayarlayan bir nöral ağımız var. Bu\n",
    "nöral ağ ilk olarak aldığı resim ile bir sonuç değeri buluyor, ağın en sonuna gidiyor.\n",
    "Buna **forward propagation** denir. Daha sonrasında ise elde ettiği sonuç ile nöral ağın\n",
    "başına dönüyor ve ağırlıları yeniden yeniden düzenliyor. Bu işlemede **back propagation**\n",
    "denir. Yani bir nöral ağ tahmin için **forward propagation**, eğitm için ise **forward ve\n",
    "back propagation** yapar.\n",
    "\n",
    "Bir sonraki not defterinde forward ve back propagation süreçlerini ayrı fonksiyonlara alacağız.\n",
    "Böylece daha derli toplu bir kodumuz olacaktır."
   ],
   "metadata": {
    "collapsed": false,
    "pycharm": {
     "name": "#%% md\n"
    }
   }
  }
 ],
 "metadata": {
  "kernelspec": {
   "display_name": "Python 3",
   "language": "python",
   "name": "python3"
  },
  "language_info": {
   "codemirror_mode": {
    "name": "ipython",
    "version": 2
   },
   "file_extension": ".py",
   "mimetype": "text/x-python",
   "name": "python",
   "nbconvert_exporter": "python",
   "pygments_lexer": "ipython2",
   "version": "2.7.6"
  }
 },
 "nbformat": 4,
 "nbformat_minor": 0
}