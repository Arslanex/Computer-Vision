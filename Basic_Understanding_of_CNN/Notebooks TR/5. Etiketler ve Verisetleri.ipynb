{
 "cells": [
  {
   "cell_type": "markdown",
   "metadata": {
    "collapsed": true,
    "pycharm": {
     "name": "#%% md\n"
    }
   },
   "source": [
    "Bu not defterinde ağılıklarımızı her iki resimide doğru şekilde tanıyacak şekilde\n",
    "eğitceğiz. Daha önce de belirttiğimiz gibi nöral ağ sonunda çıkan:\n",
    "* 0 -> Dikey Çizgiyi temsil edecektir.\n",
    "* 1 -> Yatay Çizgiyi temsil edecektir.\n",
    "\n",
    "Bu not defterinde yapacağımız şey aslında bir nöral ağın eğitilmesidir. Bir nöral ağı eğitmek\n",
    "için iki girdiye ihtiyacınız vardır. Bunlar etiketler ve veri setidir. Veri seti nöral ağın\n",
    "eğitimi için kullanılacak verilerin bizim için resimlerimzin bulunduğu depo, klasör.\n",
    "Eğitim sırasında da verilerin ne olduğunu, sonuçta ne elde etmesi gerektiğini ona biz\n",
    "belirtiliz. Bu belirttiğimiz değer verinin etiketidir.\n",
    "\n",
    "Bizim için veri setimiz iki resimden oluşuyor, bunlar yatay ve dikey çizgi. Bu çizgilerin\n",
    "eğirim soncu ulaşmalrı gerekn değerler:\n",
    "* Yatay için 0\n",
    "* dikey için 1\n",
    "\n",
    "değerleridir. Bunlarda bizim etiketlerimizdir."
   ]
  },
  {
   "cell_type": "code",
   "execution_count": 1,
   "outputs": [],
   "source": [
    "import cv2 as cv\n",
    "import numpy as np"
   ],
   "metadata": {
    "collapsed": false,
    "pycharm": {
     "name": "#%%\n"
    }
   }
  },
  {
   "cell_type": "code",
   "execution_count": 2,
   "outputs": [],
   "source": [
    "def prepare_the_image(imgPath):\n",
    "    img = cv.imread(imgPath, cv.IMREAD_GRAYSCALE)\n",
    "    img = img/255\n",
    "    flatten = img.flatten()\n",
    "    return flatten"
   ],
   "metadata": {
    "collapsed": false,
    "pycharm": {
     "name": "#%%\n"
    }
   }
  },
  {
   "cell_type": "code",
   "execution_count": 3,
   "outputs": [],
   "source": [
    "def sigmoid(x):\n",
    "    return 1 / (1 + np.exp(-x))\n",
    "\n",
    "def sigmoid_der(x):\n",
    "    return sigmoid(x) * (1 - sigmoid(x))"
   ],
   "metadata": {
    "collapsed": false,
    "pycharm": {
     "name": "#%%\n"
    }
   }
  },
  {
   "cell_type": "code",
   "source": [
    "flattenV = prepare_the_image(\"Data/Train/Vertical.png\")\n",
    "flattenH = prepare_the_image(\"Data/Train/Horizontal.png\")\n",
    "\n",
    "weights = np.array([0.5, 0.5, 0.5, 0.5, 0.5, 0.5, 0.5, 0.5, 0.5])"
   ],
   "metadata": {
    "collapsed": false,
    "pycharm": {
     "name": "#%%\n"
    }
   },
   "execution_count": 7,
   "outputs": []
  },
  {
   "cell_type": "markdown",
   "source": [
    "Şimdi nöral ağımız için veri setlerimizi ve verilere karşılık gelen etiketlerimizi\n",
    "programa belirtelim."
   ],
   "metadata": {
    "collapsed": false,
    "pycharm": {
     "name": "#%% md\n"
    }
   }
  },
  {
   "cell_type": "code",
   "execution_count": 8,
   "outputs": [],
   "source": [
    "dataSet = np.array([flattenV, flattenH])\n",
    "labels = np.array([0, 1])"
   ],
   "metadata": {
    "collapsed": false,
    "pycharm": {
     "name": "#%%\n"
    }
   }
  },
  {
   "cell_type": "markdown",
   "source": [
    "Şimdi ağırlıları yeniden ayarlamak, nöral ağı eğitmek için bir döngü oluşturacağız.\n",
    "Geçtiğimiz not defterinde yaptığımız şekilde ağırlıkları yeniden ayarlanacak tek fark\n",
    "bu sefer iki resimde işleme alınacak.\n",
    "\n",
    "İlk olarak döngümüzün kaç tur çalışacağını yani kaç turluk bir eğitim olacağını belirteceğiz.\n",
    "Buna, kaç tur eğitim gerçekleşeceğine, ' epoch ' denir. Her bir döngüde veri setinin içerisindeki\n",
    "her bir veri için ağırlılar yeniden ayarlanak. Ben epoch değerimi 5 olarak ayarladım. Totalde\n",
    "5 kez dikey 5 kez de yatay çizgi için ağırlılar yeniden ayarlanacaktır."
   ],
   "metadata": {
    "collapsed": false,
    "pycharm": {
     "name": "#%% md\n"
    }
   }
  },
  {
   "cell_type": "code",
   "execution_count": 10,
   "outputs": [
    {
     "name": "stdout",
     "output_type": "stream",
     "text": [
      "# EPOCH :  1  #\n",
      "LABEL ::  0\n",
      "Convolution ::  -0.901544156637639\n",
      "Error Value ::  0.2887332761057717\n",
      "Adjustment Rate ::  0.07069955304511365\n",
      "LABEL ::  1\n",
      "Convolution ::  -0.39491513928063793\n",
      "Error Value ::  0.5974653569500368\n",
      "Adjustment Rate ::  0.14347545540038414\n",
      "Weights Value ::  [0.5, -0.24325166350478772, 0.5, -0.027363280659000913, -0.7706149441637886, -0.027363280659000913, 0.5, -0.24325166350478772, 0.5]\n",
      "\n",
      "# EPOCH :  2  #\n",
      "LABEL ::  0\n",
      "Convolution ::  -1.257118271173364\n",
      "Error Value ::  0.22147036464863024\n",
      "Adjustment Rate ::  0.0546941700792081\n",
      "LABEL ::  1\n",
      "Convolution ::  -0.8800356755609986\n",
      "Error Value ::  0.7068296138917659\n",
      "Adjustment Rate ::  0.1729641885041947\n",
      "Weights Value ::  [0.5, -0.29794583358399584, 0.5, -0.2003274691631956, -0.9982733027471914, -0.2003274691631956, 0.5, -0.29794583358399584, 0.5]\n",
      "\n",
      "# EPOCH :  3  #\n",
      "LABEL ::  0\n",
      "Convolution ::  -1.594164969915183\n",
      "Error Value ::  0.16879872148951122\n",
      "Adjustment Rate ::  0.041900503164795544\n",
      "LABEL ::  1\n",
      "Convolution ::  -1.440828744238378\n",
      "Error Value ::  0.8085829544254594\n",
      "Adjustment Rate ::  0.20030530843614852\n",
      "Weights Value ::  [0.5, -0.3398463367487914, 0.5, -0.4006327775993441, -1.2404791143481355, -0.4006327775993441, 0.5, -0.3398463367487914, 0.5]\n",
      "\n",
      "# EPOCH :  4  #\n",
      "LABEL ::  0\n",
      "Convolution ::  -1.9201717878457183\n",
      "Error Value ::  0.12784241096804314\n",
      "Adjustment Rate ::  0.03183036915398443\n",
      "LABEL ::  1\n",
      "Convolution ::  -2.0735750387008083\n",
      "Error Value ::  0.8883081579628987\n",
      "Adjustment Rate ::  0.22138587048326314\n",
      "Weights Value ::  [0.5, -0.3716767059027758, 0.5, -0.6220186480826073, -1.4936953539853832, -0.6220186480826073, 0.5, -0.3716767059027758, 0.5]\n",
      "\n",
      "# EPOCH :  5  #\n",
      "LABEL ::  0\n",
      "Convolution ::  -2.237048765790935\n",
      "Error Value ::  0.09647248146232953\n",
      "Adjustment Rate ::  0.024062090823535047\n",
      "LABEL ::  1\n",
      "Convolution ::  -2.761794740974133\n",
      "Error Value ::  0.9405760264142181\n",
      "Adjustment Rate ::  0.2349365430770833\n",
      "Weights Value ::  [0.5, -0.39573879672631085, 0.5, -0.8569551911596907, -1.7526939878860015, -0.8569551911596907, 0.5, -0.39573879672631085, 0.5]\n",
      "\n"
     ]
    }
   ],
   "source": [
    "for i in range(5):\n",
    "    print(\"# EPOCH : \", i + 1, \" #\")\n",
    "\n",
    "    for image, label in zip(dataSet, labels):\n",
    "        print(\"LABEL :: \",label)\n",
    "\n",
    "        convolution = sum(image * weights)\n",
    "        print(\"Convolution :: \", convolution)\n",
    "\n",
    "        result = sigmoid(convolution)\n",
    "\n",
    "        error = abs(result - label)\n",
    "        print(\"Error Value :: \", error)\n",
    "\n",
    "        adjustment = error * sigmoid_der(result)\n",
    "        print(\"Adjustment Rate :: \", adjustment)\n",
    "\n",
    "        weights -= np.dot(image, adjustment)\n",
    "\n",
    "    print(\"Weights Value :: \", list(weights), end=\"\\n\")\n",
    "    print()"
   ],
   "metadata": {
    "collapsed": false,
    "pycharm": {
     "name": "#%%\n"
    }
   }
  },
  {
   "cell_type": "markdown",
   "source": [
    "Artık her iki değere göre de ağırlıları yeniden ayarlayan bir nöral ağımız var. Bu\n",
    "nöral ağ ilk olarak aldığı resim ile bir sonuç değeri buluyor, ağın en sonuna gidiyor.\n",
    "Buna **forward propagation** denir. Daha sonrasında ise elde ettiği sonuç ile nöral ağın\n",
    "başına dönüyor ve ağırlıları yeniden yeniden düzenliyor. Bu işlemede **back propagation**\n",
    "denir. Yani bir nöral ağ tahmin için **forward propagation**, eğitm için ise **forward ve\n",
    "back propagation** yapar.\n",
    "\n",
    "Bir sonraki not defterinde forward ve back propagation süreçlerini ayrı fonksiyonlara alacağız.\n",
    "Böylece daha derli toplu bir kodumuz olacaktır."
   ],
   "metadata": {
    "collapsed": false,
    "pycharm": {
     "name": "#%% md\n"
    }
   }
  }
 ],
 "metadata": {
  "kernelspec": {
   "display_name": "Python 3",
   "language": "python",
   "name": "python3"
  },
  "language_info": {
   "codemirror_mode": {
    "name": "ipython",
    "version": 2
   },
   "file_extension": ".py",
   "mimetype": "text/x-python",
   "name": "python",
   "nbconvert_exporter": "python",
   "pygments_lexer": "ipython2",
   "version": "2.7.6"
  }
 },
 "nbformat": 4,
 "nbformat_minor": 0
}