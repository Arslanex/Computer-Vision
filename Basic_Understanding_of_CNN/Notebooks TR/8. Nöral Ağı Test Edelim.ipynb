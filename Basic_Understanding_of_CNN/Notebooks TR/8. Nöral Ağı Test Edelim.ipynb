{
 "cells": [
  {
   "cell_type": "markdown",
   "metadata": {
    "collapsed": true,
    "pycharm": {
     "name": "#%% md\n"
    }
   },
   "source": [
    "Artık elimizde tek tip katmanı bulunan bir nöral ağ var. Artık tahmin veya tespit işelemine\n",
    "geçebilriz. Bir nöral ağ ile tahmin/tespit yapabilmek için iki şeye ihtiyaç duyarız.\n",
    "Bunlar :\n",
    "* Nöral ağın yapısı (katmanların tipi, sayısı ve dizilimleri)\n",
    "* Nöral ağ ile eğitilmiş ağırlıklar\n",
    "\n",
    "Nöral ağın yapısını bilmeliyiz çünkü elimizdeki veriyi eğitimin gerçekleştiği nöral ağ ile\n",
    "aynı ağa sokmalıyız. Ağılıkları bilmeliyiz çünkü eğitimi sonucu optimum değerlere gelmiş\n",
    "ağırlılar yani eğitilmiş ağırlılar ile tahmin yapabilriz.\n",
    "\n",
    "Ben en ideal değerlere getirdiğim ağırlıkları kullanacağım. Sizlerde isterseniz farklı epoch sayıları ile\n",
    "farklı ağırlıklar oluşturarak deneyebilrisiniz. Ama eğitim yaparken  dikkat etmeniz gereken bir\n",
    "konu var. Eğer eğtim veri setiniz yeterli büyüklükte değil veya aynı veri seti ile epoch değeri\n",
    "fazla eğitimler yaparsanız nöral ağınız öğrenmez ezberler. Buda farklı durumlarla karşılaştığında\n",
    "yanlış tahmin etmesine sebep olur, bu yüzden her zaman bu durumu kontrol etmek için bir\n",
    "test veri setinizde olsun. Test veri seti eğitim için kullnmadığınız verilerden oluşan nöral ağın\n",
    "eğitim durumunu kontorl etmek için hazırlanan bir veri setidir.\n",
    "\n",
    "Bizim veri setimizde aismetrik bir dikey çizgi bulunmaktadır. Bu dosyanın hem boyutu 3x3'ten\n",
    "büyük hemde çizgi resimi ortalamamktadır. Eğer şuana kadar nöral ağımızı doğru eğitebildiysek\n",
    "dikey ve yatay çizgi arasındaki farkı ayırt edebilir olmalı yani bu resimi dikey çizgi sınıfına\n",
    "koyabilmelidir.\n",
    "\n",
    "O zaman kütüphanelerimiz ve fonksiyonlarımızı içe katarıp hemen ağımızı ve ağırlıklarımız\n",
    "test edelim. REsimleri ağa girebilecek şekilde ayarlayan prepare_the_image() fonskiyonu\n",
    "artık aldığı resimleri 3x3 boyutuna getiriyor çünkü nöral ağımızı 3x3 resimlerde çalışacak\n",
    "şekilde programladık."
   ]
  },
  {
   "cell_type": "code",
   "execution_count": 18,
   "outputs": [],
   "source": [
    "import cv2 as cv"
   ],
   "metadata": {
    "collapsed": false,
    "pycharm": {
     "name": "#%%\n"
    }
   }
  },
  {
   "cell_type": "code",
   "execution_count": 19,
   "outputs": [],
   "source": [
    "def prepare_the_image(imgPath):\n",
    "    img = cv.imread(imgPath, cv.IMREAD_GRAYSCALE)\n",
    "    img = cv.resize(img, (3,3), interpolation=0)\n",
    "    img = img/255\n",
    "    flatten = img.flatten()\n",
    "    return flatten\n"
   ],
   "metadata": {
    "collapsed": false,
    "pycharm": {
     "name": "#%%\n"
    }
   }
  },
  {
   "cell_type": "code",
   "execution_count": 20,
   "outputs": [],
   "source": [
    "weights = [0.60305511, -1.73935509, 0.25934794, 2.07534286, -0.34300907, 1.89875167, 0.75265044, -1.76948647, 0.38080277]"
   ],
   "metadata": {
    "collapsed": false,
    "pycharm": {
     "name": "#%%\n"
    }
   }
  },
  {
   "cell_type": "code",
   "execution_count": 23,
   "outputs": [],
   "source": [
    "test1 = prepare_the_image(\"../dataset/test/asymmetric_vertical.png\")"
   ],
   "metadata": {
    "collapsed": false,
    "pycharm": {
     "name": "#%%\n"
    }
   }
  },
  {
   "cell_type": "code",
   "execution_count": 24,
   "outputs": [
    {
     "name": "stdout",
     "output_type": "stream",
     "text": [
      "RESULT : -3.85185063\n"
     ]
    }
   ],
   "source": [
    "# forward propagation\n",
    "convolution = sum(test1 * weights)\n",
    "\n",
    "print(\"RESULT :\",convolution)"
   ],
   "metadata": {
    "collapsed": false,
    "pycharm": {
     "name": "#%%\n"
    }
   }
  },
  {
   "cell_type": "code",
   "execution_count": 25,
   "outputs": [
    {
     "name": "stdout",
     "output_type": "stream",
     "text": [
      "VERTICAL\n"
     ]
    }
   ],
   "source": [
    "if convolution < 0.5:\n",
    "    print(\"VERTICAL\")\n",
    "elif convolution > 0.5:\n",
    "    print(\"HORIZONTAL\")\n"
   ],
   "metadata": {
    "collapsed": false,
    "pycharm": {
     "name": "#%%\n"
    }
   }
  }
 ],
 "metadata": {
  "kernelspec": {
   "display_name": "Python 3",
   "language": "python",
   "name": "python3"
  },
  "language_info": {
   "codemirror_mode": {
    "name": "ipython",
    "version": 2
   },
   "file_extension": ".py",
   "mimetype": "text/x-python",
   "name": "python",
   "nbconvert_exporter": "python",
   "pygments_lexer": "ipython2",
   "version": "2.7.6"
  }
 },
 "nbformat": 4,
 "nbformat_minor": 0
}