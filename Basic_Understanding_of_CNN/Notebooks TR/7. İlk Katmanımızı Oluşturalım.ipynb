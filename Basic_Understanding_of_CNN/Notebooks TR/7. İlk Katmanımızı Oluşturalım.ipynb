{
 "cells": [
  {
   "cell_type": "markdown",
   "metadata": {
    "collapsed": true,
    "pycharm": {
     "name": "#%% md\n"
    }
   },
   "source": [
    "Bu not defterinde şuana kadar yaptığımız herşeyi bir sınıf yapısı altında birleştirerek\n",
    "bir katman oluşturacağız. Nöral ağlar birbirinden farklı katmanların bir araya gelmesi\n",
    "ile oluşur. Örneğin evrişimsen sinir ağlarında, dense, maxpooling gibi farklı görevleri\n",
    "olan katmnalar bulunur. Bu katmanları arka arkaya dizerek bir nöral ağ oluştururuz.\n",
    "\n",
    "En temel nöral ağ yapısı aşağıdaki gibisir. Her nöral ağda girdiyi şekillendiren bir **Input\n",
    "Layer** bir de sonucun gözlemleneceği **Output Layer** bulunur. Bu iki katman arasında bulunan\n",
    "diğer katmanların hepsi **Hidden Layer** olarak adlandırlır. Hidden Layer'ların sayılar ve tipleri\n",
    "kullanıcı tarafından belirlenir.\n",
    "\n",
    "![](https://machinelearningmastery.com/wp-content/uploads/2021/08/neural_networks_21.png)"
   ]
  },
  {
   "cell_type": "code",
   "execution_count": 5,
   "outputs": [],
   "source": [
    "import cv2 as cv\n",
    "import numpy as np"
   ],
   "metadata": {
    "collapsed": false,
    "pycharm": {
     "name": "#%%\n"
    }
   }
  },
  {
   "cell_type": "code",
   "execution_count": 6,
   "outputs": [],
   "source": [
    "def prepare_the_image(imgPath):\n",
    "    img = cv.imread(imgPath, cv.IMREAD_GRAYSCALE)\n",
    "    img = img/255\n",
    "    flatten = img.flatten()\n",
    "    return flatten\n"
   ],
   "metadata": {
    "collapsed": false,
    "pycharm": {
     "name": "#%%\n"
    }
   }
  },
  {
   "cell_type": "code",
   "execution_count": 7,
   "outputs": [],
   "source": [
    "def sigmoid(x):\n",
    "    return 1/(1+np.exp(-x))\n",
    "\n",
    "def sigmoid_der(x):\n",
    "    return sigmoid(x)*(1-sigmoid(x))"
   ],
   "metadata": {
    "collapsed": false,
    "pycharm": {
     "name": "#%%\n"
    }
   }
  },
  {
   "cell_type": "code",
   "execution_count": 8,
   "outputs": [
    {
     "ename": "TypeError",
     "evalue": "unsupported operand type(s) for /: 'NoneType' and 'int'",
     "output_type": "error",
     "traceback": [
      "\u001B[1;31m---------------------------------------------------------------------------\u001B[0m",
      "\u001B[1;31mTypeError\u001B[0m                                 Traceback (most recent call last)",
      "Cell \u001B[1;32mIn[8], line 1\u001B[0m\n\u001B[1;32m----> 1\u001B[0m flattenV \u001B[38;5;241m=\u001B[39m \u001B[43mprepare_the_image\u001B[49m\u001B[43m(\u001B[49m\u001B[38;5;124;43m\"\u001B[39;49m\u001B[38;5;124;43m../data/train/vertical.png\u001B[39;49m\u001B[38;5;124;43m\"\u001B[39;49m\u001B[43m)\u001B[49m\n\u001B[0;32m      2\u001B[0m flattenH \u001B[38;5;241m=\u001B[39m prepare_the_image(\u001B[38;5;124m\"\u001B[39m\u001B[38;5;124m../data/train/horizantal.png\u001B[39m\u001B[38;5;124m\"\u001B[39m)\n",
      "Cell \u001B[1;32mIn[6], line 3\u001B[0m, in \u001B[0;36mprepare_the_image\u001B[1;34m(imgPath)\u001B[0m\n\u001B[0;32m      1\u001B[0m \u001B[38;5;28;01mdef\u001B[39;00m \u001B[38;5;21mprepare_the_image\u001B[39m(imgPath):\n\u001B[0;32m      2\u001B[0m     img \u001B[38;5;241m=\u001B[39m cv\u001B[38;5;241m.\u001B[39mimread(imgPath, cv\u001B[38;5;241m.\u001B[39mIMREAD_GRAYSCALE)\n\u001B[1;32m----> 3\u001B[0m     img \u001B[38;5;241m=\u001B[39m \u001B[43mimg\u001B[49m\u001B[38;5;241;43m/\u001B[39;49m\u001B[38;5;241;43m255\u001B[39;49m\n\u001B[0;32m      4\u001B[0m     flatten \u001B[38;5;241m=\u001B[39m img\u001B[38;5;241m.\u001B[39mflatten()\n\u001B[0;32m      5\u001B[0m     \u001B[38;5;28;01mreturn\u001B[39;00m flatten\n",
      "\u001B[1;31mTypeError\u001B[0m: unsupported operand type(s) for /: 'NoneType' and 'int'"
     ]
    }
   ],
   "source": [
    "flattenV = prepare_the_image(\"../data/train/vertical.png\")\n",
    "flattenH = prepare_the_image(\"../data/train/horizantal.png\")"
   ],
   "metadata": {
    "collapsed": false,
    "pycharm": {
     "name": "#%%\n"
    }
   }
  },
  {
   "cell_type": "code",
   "execution_count": null,
   "outputs": [],
   "source": [
    "dataset = np.array([flattenV, flattenH])\n",
    "labels = np.array([[0, 1]]).T"
   ],
   "metadata": {
    "collapsed": false,
    "pycharm": {
     "name": "#%%\n"
    }
   }
  },
  {
   "cell_type": "markdown",
   "source": [
    "Katman sınıfımızı oluşturmaya başlayalım. Biz en temel katman yapısını oluşturacağız bu\n",
    "yüzden katmanımızın sadece iki işlevi olacak. Bunlar forward and back propagation işlemleri\n",
    "olacaktır. Eğer sınıf oluşturmaya hakim iseniz geçtiğimiz not defterinde kullandığımız\n",
    "fonksiyonları sınıfımızın içerisine entegre etmekten fazlasını yapmadığımı görebilirsiniz.\n",
    "\n",
    "Farklı olarak sınıf çağırıldığında çalışacak bir consturcter merhodu tanımladım. Bu methodun\n",
    "amacı katmana girecek matrisin boyutlarına bilmek istemem çünkü  işlemlerimi girdi boyutna\n",
    "göre yapamam gerekli."
   ],
   "metadata": {
    "collapsed": false,
    "pycharm": {
     "name": "#%% md\n"
    }
   }
  },
  {
   "cell_type": "code",
   "execution_count": null,
   "outputs": [],
   "source": [
    "class Layer:\n",
    "    def __init__(self, input_size, output_size):\n",
    "        self.weights = np.random.rand(input_size, output_size)\n",
    "        print(\"Starting weights are . . .\")\n",
    "        print(self.weights)\n",
    "\n",
    "    def feed_forward(self, input):\n",
    "        weighted_sum = np.dot(input, self.weights)\n",
    "        output = sigmoid(weighted_sum)\n",
    "        return output\n",
    "\n",
    "    def back_propagation(self, input, output, labels):\n",
    "        error = output - labels\n",
    "        adjustment = error * sigmoid_der(output)\n",
    "        weights_update = np.dot(input.T, adjustment)\n",
    "        self.weights -= weights_update"
   ],
   "metadata": {
    "collapsed": false,
    "pycharm": {
     "name": "#%%\n"
    }
   }
  },
  {
   "cell_type": "markdown",
   "source": [
    "Hemen aşağıda katmanımızı çağğıralım. 3x3 bir resimi düzleştridiğimiz de 9X1 bir matris elde\n",
    "ederiz, bu şekilde katmanıma matris boyutumu belirtitiyorum. Sonrasında 10 tur boyunca katmanın\n",
    "forward ve back propagation methodlarını çağırıyorum yani nöral ağımı eğitiyorum. En son\n",
    "elde ettiğim sonuçları çıktı olarak gözlemleyebilirsiniz."
   ],
   "metadata": {
    "collapsed": false,
    "pycharm": {
     "name": "#%% md\n"
    }
   }
  },
  {
   "cell_type": "code",
   "execution_count": null,
   "outputs": [],
   "source": [
    "layer1 = Layer(9, 1)"
   ],
   "metadata": {
    "collapsed": false,
    "pycharm": {
     "name": "#%%\n"
    }
   }
  },
  {
   "cell_type": "code",
   "execution_count": null,
   "outputs": [],
   "source": [
    "for i in range(10):\n",
    "    output = layer1.feed_forward(dataset)\n",
    "    layer1.back_propagation(dataset, output, labels)"
   ],
   "metadata": {
    "collapsed": false,
    "pycharm": {
     "name": "#%%\n"
    }
   }
  },
  {
   "cell_type": "code",
   "execution_count": null,
   "outputs": [],
   "source": [
    "print(\"Input dataset :: \\n\", dataset)\n",
    "print(\"Labels are :: \\n\", labels)\n",
    "print(\"Final weights are . . . \\n\", layer1.weights)"
   ],
   "metadata": {
    "collapsed": false,
    "pycharm": {
     "name": "#%%\n"
    }
   }
  }
 ],
 "metadata": {
  "kernelspec": {
   "display_name": "Python 3",
   "language": "python",
   "name": "python3"
  },
  "language_info": {
   "codemirror_mode": {
    "name": "ipython",
    "version": 2
   },
   "file_extension": ".py",
   "mimetype": "text/x-python",
   "name": "python",
   "nbconvert_exporter": "python",
   "pygments_lexer": "ipython2",
   "version": "2.7.6"
  }
 },
 "nbformat": 4,
 "nbformat_minor": 0
}