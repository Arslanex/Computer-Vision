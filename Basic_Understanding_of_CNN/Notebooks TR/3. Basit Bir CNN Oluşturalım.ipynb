{
 "cells": [
  {
   "cell_type": "markdown",
   "metadata": {
    "collapsed": true,
    "pycharm": {
     "name": "#%% md\n"
    }
   },
   "source": [
    "Başlamadan önce ileride sık sık duyacağınız ve CNN adının C harfinin temsil ettiği\n",
    "konvolüsyon  ne olduğundan bahsetmek isterim. Neural Nwtwork yapısında konvolüsyon,\n",
    "iki bilgi kümesinin birleştirilmesini sağlayan matematiksel bir işlemdir. CNN durumunda,\n",
    "bilgiyi filtrelemek ve bir özellik haritası üretmek için giriş verilerine konvolüsyon\n",
    "uygulanır. Bu filtreye çekirdek veya özellik dedektörü de denir ve boyutları örneğin\n",
    "3x3 olabilir. Konvolüsyon gerçekleştirmek için çekirdek, giriş görüntüsünün üzerinden\n",
    "geçerek eleman eleman matris çarpımı yapar. Her alıcı alan (konvolüsyonun gerçekleştiği\n",
    "alan) için sonuç özellik haritasına yazılır. Özellik haritası tamamlanana kadar filtreyi\n",
    "kaydırmaya devam ederiz. Bir diğer değiş ile resimleri ço boyutlu  matrislerden nöral ağda\n",
    "işleleme girecek şekilde yeniden şekillendirilmesi, hazırlanmasıdır.\n",
    "\n",
    "Bu not defterinde nöral ağ yapısında kullanılan ağırlık (weights) ve aktivasyon fonksiyonlarınn\n",
    "çalışma mantığına bakacak ve OpenCV ile ilk temel nöral ağ protoipimizi yapacağız.\n",
    "\n",
    "Başlarken her zaman olduğu gibi kütüphanelerimizi içe aktarıyor ve resimi üzerinde işlem\n",
    "yapılabilir hale getiren fonksiyonumuzu çağırıyor, sonrasında da resimlermizi içe aktarıyoruz."
   ]
  },
  {
   "cell_type": "code",
   "execution_count": 1,
   "outputs": [],
   "source": [
    "import cv2 as cv\n",
    "import numpy as np"
   ],
   "metadata": {
    "collapsed": false,
    "pycharm": {
     "name": "#%%\n"
    }
   }
  },
  {
   "cell_type": "code",
   "execution_count": 2,
   "outputs": [],
   "source": [
    "def prepare_the_image(imgPath):\n",
    "    img = cv.imread(imgPath, cv.IMREAD_GRAYSCALE)\n",
    "    img = img/255\n",
    "    flatten = img.flatten()\n",
    "    return flatten"
   ],
   "metadata": {
    "collapsed": false,
    "pycharm": {
     "name": "#%%\n"
    }
   }
  },
  {
   "cell_type": "code",
   "execution_count": 3,
   "outputs": [
    {
     "name": "stdout",
     "output_type": "stream",
     "text": [
      "Flatten for of vertical image is,  [0. 1. 0. 0. 1. 0. 0. 1. 0.]\n"
     ]
    }
   ],
   "source": [
    "flattenV = prepare_the_image(\"../dataset/train/vertical.png\")\n",
    "\n",
    "print(\"Flatten for of vertical image is, \",flattenV)"
   ],
   "metadata": {
    "collapsed": false,
    "pycharm": {
     "name": "#%%\n"
    }
   }
  },
  {
   "cell_type": "markdown",
   "source": [
    "Şimdi ağırlıklarımızı (weights) oluşturalım. Ağırlık kavramı aslında geçtiğimiz not\n",
    "defterlerinde oluşturduğumuz filtreden farklıdır. Ağırlıklar iki nöral ağ katmanı\n",
    "arasında bulunan filtrelerden ibarettirler. Nöral ağ eğitilirken bu filtreleri, bundan\n",
    "sonra ağırlık olarak kullanacağım, eğitim objelerini birbirlerinden ayıracak şekilde yeniden\n",
    "ayarlanır tıpkı geçtiğimiz not defterinde while döngüsü ile yaptığımız gibi.\n",
    "\n",
    "Tabi ki sistemi oldukça basite indirgedik ama temel çalışma prensibi bu şekilde. Şimdi\n",
    "Numpy aracılığı ile bir ağırlık dizisi oluşturalım ve resimimiz ile işleme sokrak işleme\n",
    "devam edelim."
   ],
   "metadata": {
    "collapsed": false,
    "pycharm": {
     "name": "#%% md\n"
    }
   }
  },
  {
   "cell_type": "code",
   "execution_count": 4,
   "outputs": [],
   "source": [
    "weights = np.array([0.5, 0.5, 0.5, 0.5, 0.5, 0.5, 0.5, 0.5, 0.5])"
   ],
   "metadata": {
    "collapsed": false,
    "pycharm": {
     "name": "#%%\n"
    }
   }
  },
  {
   "cell_type": "code",
   "execution_count": 5,
   "outputs": [
    {
     "name": "stdout",
     "output_type": "stream",
     "text": [
      "Convolution value is ::  1.5\n"
     ]
    }
   ],
   "source": [
    "convolution = sum(flattenV * weights)\n",
    "\n",
    "print(\"Convolution value is :: \", convolution)"
   ],
   "metadata": {
    "collapsed": false,
    "pycharm": {
     "name": "#%%\n"
    }
   }
  },
  {
   "cell_type": "markdown",
   "source": [
    "Yukarıda ki hücreyi çalıştırdığınız zaman çıkan sonuç görebileceğiniz gibi 1.5 oldu.\n",
    "Biz ilk not defterinden beri resimlerde bulunan piksel değerlerini 0 ile 255 arasından\n",
    "0 ile 1 arasına sıkıştırarak daha kolay işlem yapılabilir hale getiriyoruz. Burda da\n",
    "yapmamız gereken olarak tam olarak bu. 1.5 çok fark etmesede katman sayısıa arttıkaç ve\n",
    "ağırlıklar daha büyük değerler aldıkça bu 1.5 değerei binler belki daha da yüksek bir\n",
    "değere ulaşabilir. Bu yüzden bu 1.5 değerini 0 ile 1 arasına sokmalıyız ama bunu belirli\n",
    "bir fonksiyon doğrultusunda yapmalıyız ki elde ettiğimiz tüm değerler eşit işlensin.\n",
    "\n",
    "Bu tarz değerleri 0 ile 1 arasına sıkıştıran fonksiyonlara aktivasyon fonksyionları denir\n",
    "Biz SIGMOID aktivasyon fonksiyonu ile işlem yapacağız. aşağıda ki hüzcrede SIGMOID\n",
    "fonksiyonunun python diline aktarılmış hali bulunmaktadır."
   ],
   "metadata": {
    "collapsed": false,
    "pycharm": {
     "name": "#%% md\n"
    }
   }
  },
  {
   "cell_type": "code",
   "execution_count": 6,
   "outputs": [],
   "source": [
    "def sigmoid(x):\n",
    "    return 1/(1+np.exp(-x))"
   ],
   "metadata": {
    "collapsed": false,
    "pycharm": {
     "name": "#%%\n"
    }
   }
  },
  {
   "cell_type": "markdown",
   "source": [
    "Şimdi daha önce elde ettiğimiz konvolüsyon değreini sigmoid fonksiyonuna sokarak\n",
    "elde edeceğimiz sonucu gözlemleyelim."
   ],
   "metadata": {
    "collapsed": false,
    "pycharm": {
     "name": "#%% md\n"
    }
   }
  },
  {
   "cell_type": "code",
   "execution_count": 7,
   "outputs": [
    {
     "name": "stdout",
     "output_type": "stream",
     "text": [
      "Result value is 0.8175744761936437. (It is compressed value of 1.5 with sigmoid function)\n"
     ]
    }
   ],
   "source": [
    "result = sigmoid(convolution)\n",
    "\n",
    "print(\"Result value is {}. (It is compressed value of {} with sigmoid function)\".format(result, convolution))"
   ],
   "metadata": {
    "collapsed": false,
    "pycharm": {
     "name": "#%%\n"
    }
   }
  },
  {
   "cell_type": "markdown",
   "source": [
    "Aktivasyon fonksiyonu sonucunda 1.5 değeri 0.8 değerine sıkıştırıldı. Bundan sonra basitçe\n",
    "bir sınıflandırma yapabilriz. Bu sınıdlnadırma içi bir eşik değere ihtiyacımız olacaktır.\n",
    "Eğer hedef resimi nöral ağdan geçirdikten sonra elde ettiğimiz değer eşik değerin\n",
    "altında ise A sınıfı eşik değerin üstünde ise B sınıfına ait şeklinde. Bizim durumumuzda\n",
    "eşik değerimiz 0.5 olacaktır. Eğer elde edilen sonuç 0.5 değerinde büyük ise dikey,\n",
    "küçük ise yatay olacaktır."
   ],
   "metadata": {
    "collapsed": false,
    "pycharm": {
     "name": "#%% md\n"
    }
   }
  },
  {
   "cell_type": "code",
   "execution_count": 8,
   "outputs": [
    {
     "name": "stdout",
     "output_type": "stream",
     "text": [
      "Image is HORIZONTAL\n"
     ]
    }
   ],
   "source": [
    "if result < 0.5:\n",
    "    print(\"Image is VERTICAL\")\n",
    "elif result > 0.5:\n",
    "    print(\"Image is HORIZONTAL\")"
   ],
   "metadata": {
    "collapsed": false,
    "pycharm": {
     "name": "#%%\n"
    }
   }
  },
  {
   "cell_type": "markdown",
   "source": [
    "Şuana kadar yazdığımız bütün kodu pythın scripti olarak bulabilirsiniz. Oluşturduğumuz\n",
    "nöral ağı kullanabilir bir  fonksiyona dönüştürdüm. Ama şuan nöral ağımızın ağırlıkları\n",
    "henüz uygun şekilde ayarlanmadığı için dikey ve yatay resim arasındaki farkı ayırt edmiyor.\n",
    "\n",
    "Bir sonraki not defterinde ağırlıkları dikey resim için 0.5 değerinin üstünde yatay resim için\n",
    "ise 0.5 değerinin altında olacak şekilde ayarlanmasını sağlayacağız."
   ],
   "metadata": {
    "collapsed": false,
    "pycharm": {
     "name": "#%% md\n"
    }
   }
  }
 ],
 "metadata": {
  "kernelspec": {
   "display_name": "Python 3",
   "language": "python",
   "name": "python3"
  },
  "language_info": {
   "codemirror_mode": {
    "name": "ipython",
    "version": 2
   },
   "file_extension": ".py",
   "mimetype": "text/x-python",
   "name": "python",
   "nbconvert_exporter": "python",
   "pygments_lexer": "ipython2",
   "version": "2.7.6"
  }
 },
 "nbformat": 4,
 "nbformat_minor": 0
}