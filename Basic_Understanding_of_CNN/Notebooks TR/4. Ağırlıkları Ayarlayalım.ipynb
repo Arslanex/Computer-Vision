{
 "cells": [
  {
   "cell_type": "markdown",
   "source": [
    "Bu not defterinde ağırlıkların nasıl resimlere göre yeniden ayarlandığına yani nasıl eğitildiğine\n",
    "bakacağız. Bunun için gerekli kütüphaneleri içe aktarıyor ve daha önce hazırladığımız fonksiyonları\n",
    "yazarak işe başlıyoruz. Daha önce kullanmadığımız sigmoid_der() fonksiyonun amacına aşağıda değineceğiz."
   ],
   "metadata": {
    "collapsed": false,
    "pycharm": {
     "name": "#%% md\n"
    }
   }
  },
  {
   "cell_type": "code",
   "execution_count": 4,
   "metadata": {
    "collapsed": true
   },
   "outputs": [],
   "source": [
    "import cv2 as cv\n",
    "import numpy as np"
   ]
  },
  {
   "cell_type": "code",
   "execution_count": 5,
   "outputs": [],
   "source": [
    "def prepare_the_image(imgPath):\n",
    "    img = cv.imread(imgPath, cv.IMREAD_GRAYSCALE)\n",
    "    img = img/255\n",
    "    flatten = img.flatten()\n",
    "    return flatten\n",
    "\n",
    "\n",
    "def sigmoid(x):\n",
    "    return 1/(1+np.exp(-x))\n",
    "\n",
    "def sigmoid_der(x):\n",
    "    return sigmoid(x)*(1-sigmoid(x))"
   ],
   "metadata": {
    "collapsed": false,
    "pycharm": {
     "name": "#%%\n"
    }
   }
  },
  {
   "cell_type": "markdown",
   "source": [
    "Bir önceki not defterinde dikey çizgi içeren resimi nöral ağımıza sokmuştuk ve ağın çıkışında 0.8 değerini\n",
    "elde etmiştik. Şimdi elde ettiğimiz bu değere göre ağırlıklarımızı yeniden ayarlayacağız. Oluşturacağımız\n",
    "nöral ağın sonunda çıkan değerin 1 olması durumunda dikey, 0 olması durumunda yatay çizgi içren resim\n",
    "olduğu anlamına gelecektir. Bizde ağırlıklarımızı bu değerlere göre ayarlayacağız.\n",
    "\n",
    "Bu not defterinde adımları daha iyi anlamak için ağırlıkları sadece bir resime göre tek sefer güncellenecek\n",
    "şekilde çalışacağız. Böylece ağırlıları yeniden ayarlarken arka planda neler olduğunu daha iyi kavrayabileceksiniz.\n",
    "Daha ileri gitmeden önce hemen ilgili kavramlara bakalım. Bir önceki not defterinde dikey çizgi için finalde\n",
    "0.8 değerini elde etmiştik ama bizim hedeflenen değerimiz 0 değeriydi. O zaman ilk olarak ağımızın ne kadar\n",
    "hatalı tahmin yaptığını yani hata değerini hesaplayalım"
   ],
   "metadata": {
    "collapsed": false,
    "pycharm": {
     "name": "#%% md\n"
    }
   }
  },
  {
   "cell_type": "code",
   "execution_count": 7,
   "outputs": [
    {
     "name": "stdout",
     "output_type": "stream",
     "text": [
      "ERROR Value ::  0.8\n"
     ]
    }
   ],
   "source": [
    "result = 0.8                # geçtiğimiz not defterinde elde ettiğimiz sonuç\n",
    "error = abs(0-result)       # hatanın hesaplanması\n",
    "\n",
    "print(\"ERROR Value :: \",error)"
   ],
   "metadata": {
    "collapsed": false,
    "pycharm": {
     "name": "#%%\n"
    }
   }
  },
  {
   "cell_type": "markdown",
   "source": [
    "Elimizde hata değeri olduğuna göre şimdi ne kadar düzeltme yapacağımızı yani düzeltme oranını hesaplamalıyız.\n",
    "Burada yukarıda ilk defa tanımladığımız sigmoid_der() fonksiyonu devreye giriyor. Bu fonksiyon düzeltme\n",
    "oranımızı hesaplarken daha önce aktivasyon fonksiyonu olrak kullandığımı sigmoid fonksiyonuna göre işlem\n",
    "yapacak. İşlem sırasında kullandığımız aktivasyon fonskyonuna göre farklı bir fonksiyon kullanmamızın sebebi\n",
    "elde ettiğimiz 0.8 aslında orjinald değer değil bu yüzden sıkıştırmak için kullanılan oran ile işlemlaer yapılamlı\n",
    "ki eşitlikler doğru şekilde tamamlanabilsin."
   ],
   "metadata": {
    "collapsed": false,
    "pycharm": {
     "name": "#%% md\n"
    }
   }
  },
  {
   "cell_type": "code",
   "source": [
    "adjustment = error * sigmoid_der(error)\n",
    "\n",
    "print(\"ADJUSTMENT Value :: \", adjustment)"
   ],
   "metadata": {
    "collapsed": false,
    "pycharm": {
     "name": "#%%\n"
    }
   },
   "execution_count": 8,
   "outputs": [
    {
     "name": "stdout",
     "output_type": "stream",
     "text": [
      "ADJUSTMENT Value ::  0.17112775721623552\n"
     ]
    }
   ]
  },
  {
   "cell_type": "markdown",
   "source": [
    "Şimdi elde ettiğimiz düzeltme oranına göre ağırlıklarımız yeniden düzenleyelim. Bu işle için Numpy\n",
    "kütüphanesinin dot() methodu kullnacağız. dot() methodu iki diznin iç çarpımını yapar, yani elde ettiğimiz\n",
    "oran ile tüm ağırlık değerlerini çarparak yeni ağırlık değerlerimiz oluşturacaktır."
   ],
   "metadata": {
    "collapsed": false,
    "pycharm": {
     "name": "#%% md\n"
    }
   }
  },
  {
   "cell_type": "code",
   "execution_count": 9,
   "outputs": [
    {
     "name": "stdout",
     "output_type": "stream",
     "text": [
      "First Weights ::  [0.5 0.5 0.5 0.5 0.5 0.5 0.5 0.5 0.5]\n",
      "New Weights :: \n",
      " [0.5        0.32887224 0.5        0.5        0.32887224 0.5\n",
      " 0.5        0.32887224 0.5       ]\n"
     ]
    }
   ],
   "source": [
    "flattenV = prepare_the_image(\"Data/Train/Vertical.png\")\n",
    "weights = np.array([0.5, 0.5, 0.5, 0.5, 0.5, 0.5, 0.5, 0.5, 0.5])\n",
    "convolution = sum(flattenV * weights)\n",
    "new_weights = weights - np.dot(flattenV, adjustment)\n",
    "\n",
    "print(\"First Weights :: \",weights)\n",
    "print(\"New Weights :: \\n\", new_weights)\n"
   ],
   "metadata": {
    "collapsed": false,
    "pycharm": {
     "name": "#%%\n"
    }
   }
  },
  {
   "cell_type": "markdown",
   "source": [
    "Umarım ağırlıkların nasıl yeniden düzenlendiğini ve işin arkasında dönene matematiksel işlemleri\n",
    "anlayabilmişsinizdir. bir sonraki not defterinde ağırlıklarımızı iki resime göre ideal hale geene kadar\n",
    "eğiteceğiz."
   ],
   "metadata": {
    "collapsed": false,
    "pycharm": {
     "name": "#%% md\n"
    }
   }
  }
 ],
 "metadata": {
  "kernelspec": {
   "display_name": "Python 3",
   "language": "python",
   "name": "python3"
  },
  "language_info": {
   "codemirror_mode": {
    "name": "ipython",
    "version": 2
   },
   "file_extension": ".py",
   "mimetype": "text/x-python",
   "name": "python",
   "nbconvert_exporter": "python",
   "pygments_lexer": "ipython2",
   "version": "2.7.6"
  }
 },
 "nbformat": 4,
 "nbformat_minor": 0
}