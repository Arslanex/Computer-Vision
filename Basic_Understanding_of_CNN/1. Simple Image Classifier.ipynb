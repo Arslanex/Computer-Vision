{
 "cells": [
  {
   "cell_type": "markdown",
   "source": [
    "In this notebook we will work on understanding how the system we will be using later on basically works, how a computer\n",
    "sees an image and how it distinguishes it at the most basic level.\n",
    "\n",
    "The images we'll be working with throughout this series will be 3X3 horizontal and vertical lines, so let's get started.\n",
    "We'll start by importing our library, and the library we're going to use is the OpenCV library. The OpenCV library allows\n",
    "us to perform many operations on images and is also used in deep learning and machine learning. is a library that can be\n",
    "used.\n"
   ],
   "metadata": {
    "collapsed": false
   }
  },
  {
   "cell_type": "code",
   "execution_count": 1,
   "outputs": [],
   "source": [
    "import cv2 as cv\n"
   ],
   "metadata": {
    "collapsed": false,
    "pycharm": {
     "name": "#%%\n"
    }
   }
  },
  {
   "cell_type": "markdown",
   "source": [
    "After importing our library, we continue by importing our images immediately. In this notebook we will work on black and\n",
    " white images to make our work easier. The reason for this is that color images have 3 channels (RGB), so a color image\n",
    " can be It is a 3-dimensional matrix. For simplicity we will work with single channel black and white images."
   ],
   "metadata": {
    "collapsed": false,
    "pycharm": {
     "name": "#%% md\n"
    }
   }
  },
  {
   "cell_type": "code",
   "execution_count": 2,
   "outputs": [],
   "source": [
    "vertical = cv.imread(\"../dataset/train/vertical.png\", cv.IMREAD_GRAYSCALE)\n",
    "horizontal = cv.imread(\"../dataset/train/horizontal.png\", cv.IMREAD_GRAYSCALE)"
   ],
   "metadata": {
    "collapsed": false,
    "pycharm": {
     "name": "#%%\n"
    }
   }
  },
  {
   "cell_type": "markdown",
   "source": [
    "Let's examine the images we imported. First let's look at the size of the images, then the structure of the images\n",
    "(pixel values).\n",
    "\n"
   ],
   "metadata": {
    "collapsed": false,
    "pycharm": {
     "name": "#%% md\n"
    }
   }
  },
  {
   "cell_type": "code",
   "execution_count": 3,
   "outputs": [
    {
     "name": "stdout",
     "output_type": "stream",
     "text": [
      "Shape of vertical image is  (3, 3)\n",
      "Shape of horizontal image is  (3, 3)\n"
     ]
    }
   ],
   "source": [
    "print(\"Shape of vertical image is \", vertical.shape)\n",
    "print(\"Shape of horizontal image is \", horizontal.shape)"
   ],
   "metadata": {
    "collapsed": false,
    "pycharm": {
     "name": "#%%\n"
    }
   }
  },
  {
   "cell_type": "code",
   "execution_count": 4,
   "outputs": [
    {
     "name": "stdout",
     "output_type": "stream",
     "text": [
      "VERTICAL IMAGE <=\n",
      " [[  0 255   0]\n",
      " [  0 255   0]\n",
      " [  0 255   0]]\n",
      "\n",
      " HORIZONTAL IMAGE <=\n",
      " [[  0   0   0]\n",
      " [255 255 255]\n",
      " [  0   0   0]]\n"
     ]
    }
   ],
   "source": [
    "print(\"VERTICAL IMAGE <=\\n\",vertical)\n",
    "print(\"\\n HORIZONTAL IMAGE <=\\n\",horizontal)"
   ],
   "metadata": {
    "collapsed": false,
    "pycharm": {
     "name": "#%%\n"
    }
   }
  },
  {
   "cell_type": "markdown",
   "source": [
    "When we observe the values we received as output above, we can see that the black\n",
    "pixels take the value 0 and the white pixels take the value 255. We will now continue\n",
    "by dividing all the pixels in the image by 255. The reason for this is to reduce the\n",
    "processing load on the system. It is much easier to operate with 0 and 1 than with 0 and 255."
   ],
   "metadata": {
    "collapsed": false,
    "pycharm": {
     "name": "#%% md\n"
    }
   }
  },
  {
   "cell_type": "code",
   "execution_count": 5,
   "outputs": [
    {
     "name": "stdout",
     "output_type": "stream",
     "text": [
      "VERTICAL IMAGE <=\n",
      " [[0. 1. 0.]\n",
      " [0. 1. 0.]\n",
      " [0. 1. 0.]]\n",
      "\n",
      " HORIZONTAL IMAGE <=\n",
      " [[0. 0. 0.]\n",
      " [1. 1. 1.]\n",
      " [0. 0. 0.]]\n"
     ]
    }
   ],
   "source": [
    "vertical = vertical/255\n",
    "horizontal = horizontal/255\n",
    "\n",
    "print(\"VERTICAL IMAGE <=\\n\",vertical)\n",
    "print(\"\\n HORIZONTAL IMAGE <=\\n\",horizontal)"
   ],
   "metadata": {
    "collapsed": false,
    "pycharm": {
     "name": "#%%\n"
    }
   }
  },
  {
   "cell_type": "markdown",
   "source": [
    "As can be seen above, the pixel values of our image are now compressed between 0 and 1.\n",
    "There is one last thing we need to do before we put our image into the classification\n",
    "process, which is to bring the images into a form that the computer can process.\n",
    "\n",
    "The computer cannot operate on a 3X3 matrix or any matrix, it needs one-dimensional\n",
    "arrays. We will make our pictures suitable for this."
   ],
   "metadata": {
    "collapsed": false,
    "pycharm": {
     "name": "#%% md\n"
    }
   }
  },
  {
   "cell_type": "code",
   "execution_count": 6,
   "outputs": [
    {
     "name": "stdout",
     "output_type": "stream",
     "text": [
      "Flatten form of vertical is : \n",
      " [0. 1. 0. 0. 1. 0. 0. 1. 0.]\n",
      "\n",
      "Flatten form of horizontal is :\n",
      " [0. 0. 0. 1. 1. 1. 0. 0. 0.]\n"
     ]
    }
   ],
   "source": [
    "flattenV = vertical.flatten()\n",
    "flattenH = horizontal.flatten()\n",
    "\n",
    "print(\"Flatten form of vertical is : \\n\", flattenV)\n",
    "print(\"\\nFlatten form of horizontal is :\\n\", flattenH)"
   ],
   "metadata": {
    "collapsed": false,
    "pycharm": {
     "name": "#%%\n"
    }
   }
  },
  {
   "cell_type": "markdown",
   "source": [
    "Now it's time to distinguish the Remi from each other. Before we go on,\n",
    "I would like you to think about how we humans distinguish between these\n",
    "two pictures, because it has become a reflex, and we have to somehow\n",
    "transfer it to the computer.\n",
    "\n",
    "The easiest way to make the computer distinguish between these two images\n",
    "is to create a filter. This filter should produce a different result when\n",
    "the vertical image is processed and a different result when the horizontal\n",
    "image is processed. Since this is a first pass, we will assign the filter\n",
    "manually using trial and error."
   ],
   "metadata": {
    "collapsed": false,
    "pycharm": {
     "name": "#%% md\n"
    }
   }
  },
  {
   "cell_type": "code",
   "execution_count": 7,
   "outputs": [],
   "source": [
    "filter = [1, -1, 1, -1, 1, -1, 1, 1, 1]"
   ],
   "metadata": {
    "collapsed": false,
    "pycharm": {
     "name": "#%%\n"
    }
   }
  },
  {
   "cell_type": "markdown",
   "source": [
    "Now we will check our results by multiplying the sequences obtained from\n",
    "the images we have with the filter sequence we have created. If the results\n",
    " we get for both are different from each other, we can use the filter we\n",
    " created, if not, we should change the values in the filter and try again.\n",
    "\n",
    "The mathematical process that takes place below is the summation of all the\n",
    "pixel values in the image multiplied by their corresponding values in the filter."
   ],
   "metadata": {
    "collapsed": false,
    "pycharm": {
     "name": "#%% md\n"
    }
   }
  },
  {
   "cell_type": "code",
   "execution_count": 8,
   "outputs": [
    {
     "name": "stdout",
     "output_type": "stream",
     "text": [
      "After applying the filter vertical image value is,  1.0\n",
      "After applying the filter horizontal image value is,  -1.0\n"
     ]
    }
   ],
   "source": [
    "resultV = sum(flattenV * filter)\n",
    "resultH = sum(flattenH * filter)\n",
    "\n",
    "print(\"After applying the filter vertical image value is, \",resultV)\n",
    "print(\"After applying the filter horizontal image value is, \",resultH)"
   ],
   "metadata": {
    "collapsed": false,
    "pycharm": {
     "name": "#%%\n"
    }
   }
  },
  {
   "cell_type": "markdown",
   "source": [
    "Now we have a filter that can distinguish between these two images. If the result after applying the \n",
    "filter is 1, it is a vertical line and -1 is a horizontal line. However, this filter can only work on \n",
    "these two images. It doesn't work on larger images or other situations like lines in the center of the \n",
    "image. But that's ok because we will solve these problems in the future."
   ],
   "metadata": {
    "collapsed": false,
    "pycharm": {
     "name": "#%% md\n"
    }
   }
  }
 ],
 "metadata": {
  "kernelspec": {
   "name": "python3",
   "language": "python",
   "display_name": "Python 3 (ipykernel)"
  },
  "language_info": {
   "codemirror_mode": {
    "name": "ipython",
    "version": 2
   },
   "file_extension": ".py",
   "mimetype": "text/x-python",
   "name": "python",
   "nbconvert_exporter": "python",
   "pygments_lexer": "ipython2",
   "version": "2.7.6"
  }
 },
 "nbformat": 4,
 "nbformat_minor": 0
}